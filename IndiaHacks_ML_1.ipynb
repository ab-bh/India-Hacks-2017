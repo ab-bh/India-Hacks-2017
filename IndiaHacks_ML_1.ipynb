{
 "cells": [
  {
   "cell_type": "markdown",
   "metadata": {},
   "source": [
    "# Prediction of Road Sign Direction\n",
    "### (based on AngleOfSignBoard, Aspect Ratio of clicked image- width/height)"
   ]
  },
  {
   "cell_type": "code",
   "execution_count": 1,
   "metadata": {
    "collapsed": true
   },
   "outputs": [],
   "source": [
    "# loading the basic libraries\n",
    "\n",
    "import pandas as pd\n",
    "import numpy as np"
   ]
  },
  {
   "cell_type": "code",
   "execution_count": 2,
   "metadata": {
    "collapsed": false,
    "scrolled": true
   },
   "outputs": [],
   "source": [
    "# loading the dataset\n",
    "\n",
    "df = pd.read_csv('train.csv')\n",
    "test = pd.read_csv('test.csv')"
   ]
  },
  {
   "cell_type": "code",
   "execution_count": 3,
   "metadata": {
    "collapsed": false
   },
   "outputs": [
    {
     "data": {
      "text/html": [
       "<div>\n",
       "<table border=\"1\" class=\"dataframe\">\n",
       "  <thead>\n",
       "    <tr style=\"text-align: right;\">\n",
       "      <th></th>\n",
       "      <th>AngleOfSign</th>\n",
       "      <th>SignAspectRatio</th>\n",
       "      <th>SignWidth</th>\n",
       "      <th>SignHeight</th>\n",
       "    </tr>\n",
       "  </thead>\n",
       "  <tbody>\n",
       "    <tr>\n",
       "      <th>count</th>\n",
       "      <td>38485.000000</td>\n",
       "      <td>38485.000000</td>\n",
       "      <td>38485.000000</td>\n",
       "      <td>38485.000000</td>\n",
       "    </tr>\n",
       "    <tr>\n",
       "      <th>mean</th>\n",
       "      <td>132.930986</td>\n",
       "      <td>0.901241</td>\n",
       "      <td>92.922957</td>\n",
       "      <td>104.993140</td>\n",
       "    </tr>\n",
       "    <tr>\n",
       "      <th>std</th>\n",
       "      <td>98.042472</td>\n",
       "      <td>0.226068</td>\n",
       "      <td>52.399274</td>\n",
       "      <td>53.347424</td>\n",
       "    </tr>\n",
       "    <tr>\n",
       "      <th>min</th>\n",
       "      <td>1.000000</td>\n",
       "      <td>0.260000</td>\n",
       "      <td>19.000000</td>\n",
       "      <td>23.000000</td>\n",
       "    </tr>\n",
       "    <tr>\n",
       "      <th>25%</th>\n",
       "      <td>42.000000</td>\n",
       "      <td>0.770000</td>\n",
       "      <td>54.000000</td>\n",
       "      <td>65.000000</td>\n",
       "    </tr>\n",
       "    <tr>\n",
       "      <th>50%</th>\n",
       "      <td>80.000000</td>\n",
       "      <td>0.930000</td>\n",
       "      <td>80.000000</td>\n",
       "      <td>96.000000</td>\n",
       "    </tr>\n",
       "    <tr>\n",
       "      <th>75%</th>\n",
       "      <td>228.000000</td>\n",
       "      <td>1.040000</td>\n",
       "      <td>118.000000</td>\n",
       "      <td>132.000000</td>\n",
       "    </tr>\n",
       "    <tr>\n",
       "      <th>max</th>\n",
       "      <td>360.000000</td>\n",
       "      <td>2.790000</td>\n",
       "      <td>589.000000</td>\n",
       "      <td>513.000000</td>\n",
       "    </tr>\n",
       "  </tbody>\n",
       "</table>\n",
       "</div>"
      ],
      "text/plain": [
       "        AngleOfSign  SignAspectRatio     SignWidth    SignHeight\n",
       "count  38485.000000     38485.000000  38485.000000  38485.000000\n",
       "mean     132.930986         0.901241     92.922957    104.993140\n",
       "std       98.042472         0.226068     52.399274     53.347424\n",
       "min        1.000000         0.260000     19.000000     23.000000\n",
       "25%       42.000000         0.770000     54.000000     65.000000\n",
       "50%       80.000000         0.930000     80.000000     96.000000\n",
       "75%      228.000000         1.040000    118.000000    132.000000\n",
       "max      360.000000         2.790000    589.000000    513.000000"
      ]
     },
     "execution_count": 3,
     "metadata": {},
     "output_type": "execute_result"
    }
   ],
   "source": [
    "# just to check the structure of the numerical values in dataset\n",
    "\n",
    "df.describe()"
   ]
  },
  {
   "cell_type": "code",
   "execution_count": 4,
   "metadata": {
    "collapsed": false
   },
   "outputs": [],
   "source": [
    "# encoding the mirror directions to 0,1,2,3\n",
    "def mapping(direction):\n",
    "    if direction=='Front':return 0\n",
    "    elif direction=='Right':return 3\n",
    "    elif direction=='Rear':return 2\n",
    "    elif direction=='Left':return 1\n",
    "df['DetectedCamera'] = df['DetectedCamera'].map(mapping)\n",
    "df['SignFacing (Target)'] = df['SignFacing (Target)'].map(mapping)\n"
   ]
  },
  {
   "cell_type": "code",
   "execution_count": 5,
   "metadata": {
    "collapsed": false
   },
   "outputs": [],
   "source": [
    "# renaming the looongg column names ^_^! \n",
    "df.rename(columns={'SignFacing (Target)': 'Actual', 'DetectedCamera': 'Detected'}, inplace=True)"
   ]
  },
  {
   "cell_type": "code",
   "execution_count": 6,
   "metadata": {
    "collapsed": false
   },
   "outputs": [],
   "source": [
    "# complete training samples(X) and target values(y)\n",
    "y = df.pop('Actual')\n",
    "X = df"
   ]
  },
  {
   "cell_type": "code",
   "execution_count": 7,
   "metadata": {
    "collapsed": false
   },
   "outputs": [],
   "source": [
    "# removing the id values(useless)\n",
    "Id = df.pop('Id')"
   ]
  },
  {
   "cell_type": "code",
   "execution_count": 23,
   "metadata": {
    "collapsed": false
   },
   "outputs": [],
   "source": [
    "# splitting data in 70-30 train-test ratio\n",
    "from sklearn.cross_validation import train_test_split\n",
    "\n",
    "X_train,X_test,y_train,y_test = train_test_split(X,y,test_size = 0.25, random_state = 42)"
   ]
  },
  {
   "cell_type": "code",
   "execution_count": 24,
   "metadata": {
    "collapsed": false
   },
   "outputs": [
    {
     "name": "stdout",
     "output_type": "stream",
     "text": [
      "0.105969507399\n"
     ]
    }
   ],
   "source": [
    "# training and testing(log_loss metric) on some classifiers for analysing purpose (RFC performs splendidly)\n",
    "\n",
    "## tuning of hyperparameter is done here while training and testing analysis on train dataset\n",
    "\n",
    "### disbaled other two classifiers as were poorly performing on tuning as well\n",
    "\n",
    "## RFC achieving an awesome 0.106 log_loss value \n",
    "\n",
    "from sklearn.ensemble import GradientBoostingClassifier as GBC,RandomForestClassifier as RFC\n",
    "from sklearn.linear_model import LogisticRegression as LR, RandomizedLogisticRegression as RLR\n",
    "from sklearn.metrics import log_loss\n",
    "\n",
    "classifiers =[\n",
    "    #GBC(learning_rate=0.001, n_estimators=500, max_depth=5, warm_start=True),\n",
    "    RFC(n_estimators=550, max_features=2, max_depth=10, min_samples_split=8,oob_score=True, warm_start=False),\n",
    "    #LR(C=0.01, solver='newton-cg', max_iter=300, multi_class='multinomial', warm_start=False),\n",
    "]\n",
    "\n",
    "for clf in classifiers:\n",
    "    clf.fit(X_train, y_train)\n",
    "    y_pred = clf.predict_proba(X_test)\n",
    "    print log_loss(y_test, y_pred)\n",
    "    "
   ]
  },
  {
   "cell_type": "code",
   "execution_count": 25,
   "metadata": {
    "collapsed": false,
    "scrolled": false
   },
   "outputs": [
    {
     "data": {
      "text/html": [
       "<div>\n",
       "<table border=\"1\" class=\"dataframe\">\n",
       "  <thead>\n",
       "    <tr style=\"text-align: right;\">\n",
       "      <th></th>\n",
       "      <th>Detected</th>\n",
       "      <th>AngleOfSign</th>\n",
       "      <th>SignAspectRatio</th>\n",
       "      <th>SignWidth</th>\n",
       "      <th>SignHeight</th>\n",
       "    </tr>\n",
       "  </thead>\n",
       "  <tbody>\n",
       "    <tr>\n",
       "      <th>0</th>\n",
       "      <td>3</td>\n",
       "      <td>67</td>\n",
       "      <td>0.63</td>\n",
       "      <td>107</td>\n",
       "      <td>169</td>\n",
       "    </tr>\n",
       "    <tr>\n",
       "      <th>1</th>\n",
       "      <td>0</td>\n",
       "      <td>16</td>\n",
       "      <td>0.88</td>\n",
       "      <td>61</td>\n",
       "      <td>69</td>\n",
       "    </tr>\n",
       "    <tr>\n",
       "      <th>2</th>\n",
       "      <td>3</td>\n",
       "      <td>44</td>\n",
       "      <td>1.15</td>\n",
       "      <td>232</td>\n",
       "      <td>202</td>\n",
       "    </tr>\n",
       "    <tr>\n",
       "      <th>3</th>\n",
       "      <td>3</td>\n",
       "      <td>50</td>\n",
       "      <td>1.10</td>\n",
       "      <td>137</td>\n",
       "      <td>125</td>\n",
       "    </tr>\n",
       "    <tr>\n",
       "      <th>4</th>\n",
       "      <td>0</td>\n",
       "      <td>30</td>\n",
       "      <td>0.95</td>\n",
       "      <td>99</td>\n",
       "      <td>104</td>\n",
       "    </tr>\n",
       "  </tbody>\n",
       "</table>\n",
       "</div>"
      ],
      "text/plain": [
       "   Detected  AngleOfSign  SignAspectRatio  SignWidth  SignHeight\n",
       "0         3           67             0.63        107         169\n",
       "1         0           16             0.88         61          69\n",
       "2         3           44             1.15        232         202\n",
       "3         3           50             1.10        137         125\n",
       "4         0           30             0.95         99         104"
      ]
     },
     "execution_count": 25,
     "metadata": {},
     "output_type": "execute_result"
    }
   ],
   "source": [
    "# refining test data for final submission\n",
    "\n",
    "test.rename(columns={'DetectedCamera': 'Detected'}, inplace=True)\n",
    "Id = test.pop('Id')\n",
    "test['Detected'] = test['Detected'].map(mapping)\n",
    "test.head()"
   ]
  },
  {
   "cell_type": "code",
   "execution_count": 27,
   "metadata": {
    "collapsed": true
   },
   "outputs": [],
   "source": [
    "'''\n",
    "using complete train file for training for corresponding test file to get probablistic score\n",
    "for each of 0,1,2,3 classes [Front, Left, Rear, Right]\n",
    "'''\n",
    "\n",
    "clf = RFC(n_estimators=550, max_features=2, max_depth=10, min_samples_split=8,oob_score=True, warm_start=False)\n",
    "clf.fit(X_train,y_train)\n",
    "y_final = clf.predict_proba(test)\n"
   ]
  },
  {
   "cell_type": "code",
   "execution_count": 28,
   "metadata": {
    "collapsed": false
   },
   "outputs": [
    {
     "data": {
      "text/plain": [
       "array([[  9.98126211e-01,   6.12428707e-05,   6.97055700e-04,\n",
       "          1.11549027e-03],\n",
       "       [  9.98247723e-01,   4.60141816e-04,   3.53450890e-05,\n",
       "          1.25679002e-03],\n",
       "       [  9.98206249e-01,   9.12645525e-05,   5.94486848e-04,\n",
       "          1.10799994e-03],\n",
       "       ..., \n",
       "       [  6.02626758e-04,   2.33131666e-03,   9.95801216e-01,\n",
       "          1.26484082e-03],\n",
       "       [  7.21814531e-03,   6.43057066e-03,   9.86225221e-01,\n",
       "          1.26062641e-04],\n",
       "       [  4.53218624e-04,   2.89134244e-03,   9.95293920e-01,\n",
       "          1.36151898e-03]])"
      ]
     },
     "execution_count": 28,
     "metadata": {},
     "output_type": "execute_result"
    }
   ],
   "source": [
    "# we can see the probablistic scores here as a numpy array\n",
    "\n",
    "y_final"
   ]
  },
  {
   "cell_type": "code",
   "execution_count": 29,
   "metadata": {
    "collapsed": true
   },
   "outputs": [],
   "source": [
    "# saving the submission file \n",
    "\n",
    "columns = ['Front','Left','Rear','Right']\n",
    "sub = pd.DataFrame(data=y_final, columns=columns)\n",
    "sub.Id = Id\n",
    "sub = sub[['Id','Front','Left','Rear','Right']]\n",
    "sub.to_csv(\"submission.csv\", index=False)"
   ]
  }
 ],
 "metadata": {
  "kernelspec": {
   "display_name": "Python 2",
   "language": "python",
   "name": "python2"
  },
  "language_info": {
   "codemirror_mode": {
    "name": "ipython",
    "version": 2
   },
   "file_extension": ".py",
   "mimetype": "text/x-python",
   "name": "python",
   "nbconvert_exporter": "python",
   "pygments_lexer": "ipython2",
   "version": "2.7.13"
  }
 },
 "nbformat": 4,
 "nbformat_minor": 2
}
